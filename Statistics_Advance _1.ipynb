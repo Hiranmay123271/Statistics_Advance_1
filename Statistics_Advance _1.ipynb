{
 "cells": [
  {
   "cell_type": "markdown",
   "id": "83251486-dc4b-4f6b-8743-66f65f61429b",
   "metadata": {},
   "source": [
    "1. Explain the properties of the F-distribution."
   ]
  },
  {
   "cell_type": "markdown",
   "id": "f5c86298-2614-4f0a-94c4-ad2697b2c457",
   "metadata": {},
   "source": [
    "Ans: The F-distribution has the following properties:\n",
    "\n",
    "1. Non-Negative Values: The F-distribution only takes non-negative values, F≥0, as it is a ratio of variances.\n",
    "   \n",
    "2. Shape: It is skewed to the right, with the degree of skewness decreasing as the degrees of freedom increase.\n",
    "\n",
    "3. Degrees of Freedom: It is defined by two parameters, d1(numerator degrees of freedom) and \n",
    "d2(denominator degrees of freedom), which influence its shape.\n",
    "\n",
    "4. Applications: It is primarily used in:\n",
    "ANOVA (Analysis of Variance): Testing differences between group means.\n",
    "Regression Analysis: Testing the overall significance of a model.\n",
    "Comparing Variances: Testing if two samples have equal variances.\n"
   ]
  },
  {
   "cell_type": "markdown",
   "id": "fe0cb2e3-77ff-4d16-bb64-e9efdc8e5332",
   "metadata": {},
   "source": [
    "2. In which types of statistical tests is the F-distribution used, and why is it appropriate for these tests?"
   ]
  },
  {
   "cell_type": "markdown",
   "id": "73f9c3fb-58e1-4276-8f69-f602e394ac99",
   "metadata": {},
   "source": [
    "Ans: \n",
    "1. Analysis of Variance (ANOVA):\n",
    ". Purpose: Tests whether the means of multiple groups are significantly different.\n",
    ". Why Appropriate: ANOVA compares the variance between group means to the variance within groups, which aligns with the F-distribution's definition as a ratio of variances.\n",
    "2. Regression Analysis:\n",
    ". Purpose: Tests the overall significance of a regression model.\n",
    ". Why Appropriate: The F-statistic assesses the ratio of the explained variance (due to the model) to the unexplained variance (residual error).\n",
    "3. Equality of Variances (F-Test):\n",
    ". Purpose: Tests if two populations have equal variances.\n",
    ". Why Appropriate: The F-distribution models the ratio of the variances of two samples.\n",
    "4. General Linear Model Testing:\n",
    ". Purpose: Evaluates specific hypotheses about linear relationships in multivariate data.\n",
    ". Why Appropriate: The F-distribution handles comparisons of explained variance to residual variance in these models.\n",
    "\n",
    "Why It’s Appropriate:\n",
    "1. The F-distribution arises naturally when testing ratios of variances, which are common in these tests.\n",
    "2. Its sensitivity to the degrees of freedom ensures the proper assessment of variability across different sample sizes."
   ]
  },
  {
   "cell_type": "markdown",
   "id": "bd3b99c1-2ce0-4d65-a2ff-21ee23c1bfb6",
   "metadata": {},
   "source": [
    "3. What are the key assumptions required for conducting an F-test to compare the variances of two populations?"
   ]
  },
  {
   "cell_type": "markdown",
   "id": "7730ccf9-d612-4c11-9568-7915ff875da8",
   "metadata": {},
   "source": [
    "Ans: The key assumptions for conducting an F-test to compare the variances of two populations are:\n",
    "\n",
    "1. Independence: The samples from the two populations must be independent of each other.\n",
    " \n",
    "2. Normality: Both populations should follow a normal distribution.\n",
    " \n",
    "3. Random Sampling: The samples must be randomly drawn from their respective populations.\n",
    "   \n",
    "4. Ratio of Variances: The F-test is sensitive to deviations from normality, so if the populations are not normal, the results may not be reliable."
   ]
  },
  {
   "cell_type": "markdown",
   "id": "15103de4-4d13-4f72-bc4b-4c53f60a1918",
   "metadata": {},
   "source": [
    "4. What is the purpose of ANOVA, and how does it differ from a t-test?"
   ]
  },
  {
   "cell_type": "markdown",
   "id": "4dcb887a-d678-416d-9589-faac2e2a8341",
   "metadata": {},
   "source": [
    "Ans: Purpose of ANOVA:\n",
    "ANOVA (Analysis of Variance) is used to determine whether there are statistically significant differences between the means of three or more groups. It compares the variability between group means to the variability within groups.\n",
    "\n",
    "Difference from a t-test:\n",
    "1. Number of Groups:\n",
    "T-test: Compares the means of two groups.\n",
    "ANOVA: Compares the means of three or more groups simultaneously.\n",
    "\n",
    "2. Risk of Type I Error:\n",
    "T-test: Performing multiple t-tests for more than two groups increases the risk of Type I error (false positives).\n",
    "ANOVA: Controls for this risk by comparing all groups in a single test.\n",
    "\n",
    "3. Output:\n",
    "T-test: Provides a t-value and p-value for the two-group comparison.\n",
    "ANOVA: Provides an F-value and p-value to assess overall group differences; post-hoc tests are required to identify specific group differences if the result is significant."
   ]
  },
  {
   "cell_type": "markdown",
   "id": "f2123a34-34c9-4812-93e5-98560b2abfb3",
   "metadata": {},
   "source": [
    "5. Explain when and why you would use a one-way ANOVA instead of multiple t-tests when comparing more than two groups."
   ]
  },
  {
   "cell_type": "markdown",
   "id": "8e4c605f-93b1-4374-ac98-683314c963b9",
   "metadata": {},
   "source": [
    "Ans: We would use a one-way ANOVA instead of multiple t-tests when comparing more than two groups for the following reasons:\n",
    "\n",
    "When to Use:\n",
    "When you have one independent variable (factor) with three or more groups (e.g., different treatments or categories) and you want to compare their means.\n",
    "Why Use One-Way ANOVA Instead of Multiple T-Tests:\n",
    "1. Controls Type I Error:\n",
    "Conducting multiple t-tests increases the risk of Type I error (false positives) because each test has its own significance threshold.\n",
    "ANOVA performs a single test to compare all groups simultaneously, keeping the overall significance level\n",
    "\n",
    "2. Efficiency:\n",
    "ANOVA is more efficient than performing multiple t-tests, as it handles all comparisons in one step.\n",
    "\n",
    "3. Comprehensive Analysis:\n",
    "ANOVA identifies whether any differences exist among the groups, while multiple t-tests can only compare pairs of groups.\n",
    "\n",
    "4. Clear Interpretation:\n",
    "The F-statistic from ANOVA summarizes the overall variation among group means, making it easier to decide whether further analysis (e.g., post-hoc tests) is needed."
   ]
  },
  {
   "cell_type": "markdown",
   "id": "5317709f-2a8b-4cc9-990c-f79be21d3887",
   "metadata": {},
   "source": [
    "6. Explain how variance is partitioned in ANOVA into between-group variance and within-group variance.\n",
    "How does this partitioning contribute to the calculation of the F-statistic?"
   ]
  },
  {
   "cell_type": "markdown",
   "id": "14cd7fb4-4f4a-4865-ae22-04cb2d83cb3d",
   "metadata": {},
   "source": [
    "Ans: In ANOVA, the total variation in the data is split into two parts:\n",
    "\n",
    "1. Between-group variance measures how much the group means differ from the overall mean. It shows the variation due to differences between groups.\n",
    "   \n",
    "2. Within-group variance measures how much individual data points differ from their group mean. It represents variation within each group caused by random factors or individual differences.\n",
    "\n",
    "These two variances are combined to calculate the F-statistic, which is the ratio of between-group variance to within-group variance. If the F-statistic is large, it suggests the group means are significantly different."
   ]
  },
  {
   "cell_type": "markdown",
   "id": "da2d7788-6c4f-4419-b1ae-10b1720c8cc3",
   "metadata": {},
   "source": [
    "7. Compare the classical (frequentist) approach to ANOVA with the Bayesian approach. What are the key differences in terms of how they handle uncertainty, parameter estimation, and hypothesis testing?"
   ]
  },
  {
   "cell_type": "markdown",
   "id": "380a2aa7-4342-409a-b7d5-bea418ccaf69",
   "metadata": {},
   "source": [
    "Ans: \n",
    "Key Differences Between Classical and Bayesian ANOVA:\n",
    "1. Handling Uncertainty:\n",
    "Classical (Frequentist) ANOVA:\n",
    "i) Uses p-values to quantify evidence against the null hypothesis (H0) assuming fixed parameters and repeated sampling.\n",
    "Uncertainty is handled indirectly through confidence intervals.\n",
    "\n",
    "ii)Bayesian ANOVA:\n",
    "Models uncertainty explicitly using probability distributions for parameters.\n",
    "Provides direct estimates of the probability of hypotheses or parameter ranges (e.g., \"probability that the group means are different\").\n",
    "\n",
    "\n",
    "2. Parameter Estimation:\n",
    "Classical ANOVA:\n",
    "i)Estimates fixed effects (e.g., group means) and assumes no prior information.\n",
    "ii)Relies on point estimates like group means and variances.\n",
    "Bayesian ANOVA:\n",
    "i)Uses prior distributions for parameters (e.g., group means, variances) and updates them with observed data using Bayes' theorem to produce posterior distributions.\n",
    "ii)Provides richer information, including credible intervals for parameter estimates.\n",
    "\n",
    "3. Use of Priors:\n",
    "i)Classical ANOVA: Does not incorporate prior knowledge; relies solely on observed data.\n",
    "ii)Bayesian ANOVA: Incorporates prior knowledge or assumptions, which can influence results, especially with limited data.\n",
    "\n",
    "4. Hypothesis Testing:\n",
    "Classical ANOVA:\n",
    "i)Tests a null hypothesis (H0: all group means are equal) and calculates a p-value to determine significance.\n",
    "ii)Results in a binary decision: reject or fail to reject H0\n",
    "\n",
    "Bayesian ANOVA:\n",
    "i)Computes posterior probabilities for hypotheses (e.g., probability that group means differ).\n",
    "ii)Allows comparing models directly using metrics like Bayes factors, which provide a continuous measure of evidence.\n"
   ]
  },
  {
   "cell_type": "markdown",
   "id": "017bf336-10a5-48ae-b1d3-db5839147d14",
   "metadata": {},
   "source": [
    "8. Question: You have two sets of data representing the incomes of two different professions:\n",
    "• Profession A: 148, 52, 55, 60, 621\n",
    "• Profession B: (45, 50, 55, 52, 47] Perform an F-test to determine if the variances of the two professions' incomes are equal. What are your conclusions based on the F-test?\n",
    "Task: Use Python to calculate the F-statistic and p-value for the given data.\n",
    "Objective: Gain experience in performing F-tests and interpreting the results in terms of variance comparison."
   ]
  },
  {
   "cell_type": "code",
   "execution_count": 20,
   "id": "1efd84a8-3796-43bc-b480-8eca0206ff07",
   "metadata": {},
   "outputs": [
    {
     "name": "stdout",
     "output_type": "stream",
     "text": [
      "F-statistic: 3848.0064\n",
      "p-value: 0.0000\n"
     ]
    }
   ],
   "source": [
    "import scipy.stats as stats\n",
    "\n",
    "# Data for the two professions\n",
    "profession_a = [148, 52, 55, 60, 621]\n",
    "profession_b = [45, 50, 55, 52, 47]\n",
    "\n",
    "# Sample sizes\n",
    "n_a = len(profession_a)\n",
    "n_b = len(profession_b)\n",
    "\n",
    "# Variances\n",
    "var_a = stats.tvar(profession_a)\n",
    "var_b = stats.tvar(profession_b)\n",
    "\n",
    "# F-statistic\n",
    "f_statistic = var_a / var_b\n",
    "\n",
    "# Degrees of freedom\n",
    "d1 = n_a - 1\n",
    "d2 = n_b - 1\n",
    "\n",
    "# p-value\n",
    "p_value = stats.f.sf(f_statistic, d1, d2)\n",
    "\n",
    "print(f\"F-statistic: {f_statistic:.4f}\")\n",
    "print(f\"p-value: {p_value:.4f}\")\n"
   ]
  },
  {
   "cell_type": "markdown",
   "id": "1818c576-3edf-4c0d-869c-7a662ff7bd67",
   "metadata": {},
   "source": [
    "Since the \n",
    "p\n",
    "p-value is extremely small, we reject the null hypothesis that the variances are equal. This indicates that there is a significant difference in the variances of incomes between Profession A and Profession B."
   ]
  },
  {
   "cell_type": "markdown",
   "id": "4afd689a-6f81-4e5b-9d04-eebc57a53c8c",
   "metadata": {},
   "source": [
    "9. Question: Conduct a one-way ANOVA to test whether there are any statistically significant differences in average heights between three different regions with the following data:\n",
    "• Region A: |160, 162, 165, 158, 164]\n",
    "• Region B: |172, 175, 170, 168, 174]\n",
    "• Region C: (180, 182, 179, 185, 183]\n",
    "• Task: Write Python code to perform the one-way ANOVA and interpret the results.\n",
    "• Objective: Learn how to perform one-way ANOVA using Python and interpret F-statistic and p-value."
   ]
  },
  {
   "cell_type": "code",
   "execution_count": 25,
   "id": "dcf843ca-82eb-486b-97ec-0465385adc32",
   "metadata": {},
   "outputs": [
    {
     "data": {
      "text/plain": [
       "(67.87330316742101, 2.870664187937026e-07)"
      ]
     },
     "execution_count": 25,
     "metadata": {},
     "output_type": "execute_result"
    }
   ],
   "source": [
    "import scipy.stats as stats\n",
    "\n",
    "# Data for the regions\n",
    "region_a = [160, 162, 165, 158, 164]\n",
    "region_b = [172, 175, 170, 168, 174]\n",
    "region_c = [180, 182, 179, 185, 183]\n",
    "\n",
    "# Perform one-way ANOVA\n",
    "f_statistic, p_value = stats.f_oneway(region_a, region_b, region_c)\n",
    "\n",
    "# Output the F-statistic and p-value\n",
    "f_statistic, p_value\n"
   ]
  },
  {
   "cell_type": "markdown",
   "id": "013235ca-1da8-4726-a613-33ca424e1c0c",
   "metadata": {},
   "source": [
    "Interpretation:\n",
    "1. F-statistic: Indicates the ratio of the variance between the group means to the variance within the groups. A larger F-statistic suggests greater differences between the group means.\n",
    "2. p-value: If the p-value is less than 0.05, we reject the null hypothesis, indicating there is a significant difference in average heights between the regions."
   ]
  }
 ],
 "metadata": {
  "kernelspec": {
   "display_name": "Python 3 (ipykernel)",
   "language": "python",
   "name": "python3"
  },
  "language_info": {
   "codemirror_mode": {
    "name": "ipython",
    "version": 3
   },
   "file_extension": ".py",
   "mimetype": "text/x-python",
   "name": "python",
   "nbconvert_exporter": "python",
   "pygments_lexer": "ipython3",
   "version": "3.12.4"
  }
 },
 "nbformat": 4,
 "nbformat_minor": 5
}
